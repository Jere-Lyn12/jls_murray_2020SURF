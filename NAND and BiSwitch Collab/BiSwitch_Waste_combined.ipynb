{
 "cells": [
  {
   "cell_type": "code",
   "execution_count": 1,
   "metadata": {},
   "outputs": [],
   "source": [
    "# Imports\n",
    "from subsbml import System, createSubsystem, combineSystems, createNewSubsystem, createBasicSubsystem, SimpleModel, SimpleReaction\n",
    "import numpy as np\n",
    "import pylab as plt\n",
    "\n",
    "from bokeh.layouts import row\n",
    "from bokeh.io import export_png\n",
    "\n",
    "import warnings\n",
    "import libsbml\n",
    "import bokeh.io\n",
    "import bokeh.plotting\n",
    "import bioscrape"
   ]
  },
  {
   "cell_type": "code",
   "execution_count": 2,
   "metadata": {},
   "outputs": [
    {
     "name": "stdout",
     "output_type": "stream",
     "text": [
      "yay\n"
     ]
    }
   ],
   "source": [
    "ss1 = createSubsystem(\"BiSwitch_CRN.xml\")\n",
    "ss2 = createSubsystem(\"Waste.xml\")\n",
    "\n",
    "combine_subsystem = ss1 + ss2\n",
    "\n",
    "_ = combine_subsystem.writeSBML(\"BiCombine.xml\")\n",
    "print('yay')"
   ]
  }
 ],
 "metadata": {
  "kernelspec": {
   "display_name": "Python 3",
   "language": "python",
   "name": "python3"
  },
  "language_info": {
   "codemirror_mode": {
    "name": "ipython",
    "version": 3
   },
   "file_extension": ".py",
   "mimetype": "text/x-python",
   "name": "python",
   "nbconvert_exporter": "python",
   "pygments_lexer": "ipython3",
   "version": "3.7.7"
  }
 },
 "nbformat": 4,
 "nbformat_minor": 4
}
