{
 "cells": [
  {
   "cell_type": "code",
   "execution_count": 15,
   "metadata": {},
   "outputs": [],
   "source": [
    "# Imports\n",
    "from genelet import*\n",
    "from subsbml import System, createNewSubsystem, createSubsystem, combineSystems\n",
    "import numpy as np\n",
    "import pylab as plt"
   ]
  },
  {
   "cell_type": "markdown",
   "metadata": {},
   "source": [
    "# Bistable Switch Recreate"
   ]
  },
  {
   "cell_type": "code",
   "execution_count": 16,
   "metadata": {},
   "outputs": [
    {
     "data": {
      "text/plain": [
       "True"
      ]
     },
     "execution_count": 16,
     "metadata": {},
     "output_type": "execute_result"
    }
   ],
   "source": [
    "ss1 = createSubsystem (\"BiSwitch_CRN.xml\")\n",
    "\n",
    "#Switch_Sub = ss1\n",
    "\n",
    "Core1_id = ss1.getSpeciesByName('complex_Core1_ON_protein_RNAP').getId()\n",
    "Core2_id = ss1.getSpeciesByName('complex_Core2_ON').getId()\n",
    "#dA2_rR2 = Switch_Sub.getSpeciesByName(\"complex_Core1_AI\").getId()\n",
    "\n",
    "\n",
    "# _ = Switch_Sub.writeSBML('Switchtest1.xml')...rewrote on top of existing BiSwitch file\n",
    "\n",
    "# Set species amount\n",
    "ss1.setSpeciesAmount('complex_Core1_ON', 0.1)\n",
    "ss1.setSpeciesAmount('Core2_OFF', 0.1)\n",
    "ss1.setSpeciesAmount('dna_dA2', 1)\n",
    "ss1.setSpeciesAmount('dna_dA1', 1)\n",
    "ss1.setSpeciesAmount('protein_RNAseH', 1)\n",
    "ss1.setSpeciesAmount('protein_RNAP', 15)\n"
   ]
  },
  {
   "cell_type": "code",
   "execution_count": 19,
   "metadata": {},
   "outputs": [
    {
     "name": "stderr",
     "output_type": "stream",
     "text": [
      "C:\\Users\\Jeremiah\\anaconda3\\lib\\site-packages\\bioscrape\\sbmlutil.py:208: UserWarning: Compartments, UnitDefintions, Events, and some other SBML model components are not recognized by bioscrape. Refer to the bioscrape wiki for more information.\n",
      "  warnings.warn('Compartments, UnitDefintions, Events, and some other SBML model components are not recognized by bioscrape. ' +\n"
     ]
    },
    {
     "data": {
      "text/plain": [
       "[<matplotlib.lines.Line2D at 0x22664af6308>]"
      ]
     },
     "execution_count": 19,
     "metadata": {},
     "output_type": "execute_result"
    },
    {
     "data": {
      "image/png": "[encoded data removed]",
      "text/plain": [
       "<Figure size 864x432 with 1 Axes>"
      ]
     },
     "metadata": {
      "needs_background": "light"
     },
     "output_type": "display_data"
    }
   ],
   "source": [
    "# Simulate with Bioscrape\n",
    "timepoints = np.linspace(0, 28800, 1000)\n",
    "timepoints = timepoints/3600\n",
    "\n",
    "plt.figure(figsize=(12,6))\n",
    "results,_  = ss1.simulateWithBioscrape(timepoints)\n",
    "# Comparisons\n",
    "plt.plot(timepoints, results[Core1_id], linewidth = 3)\n",
    "plt.plot(timepoints, results[Core2_id], linewidth = 3)\n",
    "#plt.plot(timepoints, results[dA2_rR2], linewidth = 3, label = 'dA2:rR2')"
   ]
  },
  {
   "cell_type": "code",
   "execution_count": null,
   "metadata": {},
   "outputs": [],
   "source": []
  }
 ],
 "metadata": {
  "kernelspec": {
   "display_name": "Python 3",
   "language": "python",
   "name": "python3"
  },
  "language_info": {
   "codemirror_mode": {
    "name": "ipython",
    "version": 3
   },
   "file_extension": ".py",
   "mimetype": "text/x-python",
   "name": "python",
   "nbconvert_exporter": "python",
   "pygments_lexer": "ipython3",
   "version": "3.7.7"
  }
 },
 "nbformat": 4,
 "nbformat_minor": 4
}
