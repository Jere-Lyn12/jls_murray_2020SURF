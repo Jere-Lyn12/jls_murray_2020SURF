{
 "cells": [
  {
   "cell_type": "code",
   "execution_count": 1,
   "metadata": {},
   "outputs": [],
   "source": [
    "# Imports\n",
    "from genelet import*\n",
    "from subsbml import System, createNewSubsystem, createSubsystem, combineSystems\n",
    "import numpy as np\n",
    "import pylab as plt"
   ]
  },
  {
   "cell_type": "code",
   "execution_count": 2,
   "metadata": {},
   "outputs": [
    {
     "name": "stdout",
     "output_type": "stream",
     "text": [
      "The subsystem from membrane_rR1.xml has multiple compartments\n"
     ]
    },
    {
     "ename": "AttributeError",
     "evalue": "'NoneType' object has no attribute 'isSetName'",
     "output_type": "error",
     "traceback": [
      "\u001b[1;31m---------------------------------------------------------------------------\u001b[0m",
      "\u001b[1;31mAttributeError\u001b[0m                            Traceback (most recent call last)",
      "\u001b[1;32m<ipython-input-2-883ce860db76>\u001b[0m in \u001b[0;36m<module>\u001b[1;34m\u001b[0m\n\u001b[0;32m      9\u001b[0m                   ListOfMembraneSubsystems = [mb1])\n\u001b[0;32m     10\u001b[0m \u001b[1;33m\u001b[0m\u001b[0m\n\u001b[1;32m---> 11\u001b[1;33m \u001b[0mcell_1_model\u001b[0m \u001b[1;33m=\u001b[0m \u001b[0mcell_1\u001b[0m\u001b[1;33m.\u001b[0m\u001b[0mgetModel\u001b[0m\u001b[1;33m(\u001b[0m\u001b[1;33m)\u001b[0m\u001b[1;33m\u001b[0m\u001b[1;33m\u001b[0m\u001b[0m\n\u001b[0m\u001b[0;32m     12\u001b[0m \u001b[1;33m\u001b[0m\u001b[0m\n\u001b[0;32m     13\u001b[0m \u001b[1;31m#cell_1_model.setSpeciesAmount('rR1_e', 10, compartment = 'cell_1_external')\u001b[0m\u001b[1;33m\u001b[0m\u001b[1;33m\u001b[0m\u001b[1;33m\u001b[0m\u001b[0m\n",
      "\u001b[1;32m~\\anaconda3\\lib\\site-packages\\subsbml-0.1-py3.7.egg\\subsbml\\System.py\u001b[0m in \u001b[0;36mgetModel\u001b[1;34m(self, mode, **kwargs)\u001b[0m\n\u001b[0;32m    459\u001b[0m             \u001b[0mmembrane_internal\u001b[0m\u001b[1;33m.\u001b[0m\u001b[0mappend\u001b[0m\u001b[1;33m(\u001b[0m\u001b[0mmembrane\u001b[0m\u001b[1;33m)\u001b[0m\u001b[1;33m\u001b[0m\u001b[1;33m\u001b[0m\u001b[0m\n\u001b[0;32m    460\u001b[0m         \u001b[0mmembrane_internal\u001b[0m\u001b[1;33m.\u001b[0m\u001b[0mappend\u001b[0m\u001b[1;33m(\u001b[0m\u001b[0minternal_combined_subsystems\u001b[0m\u001b[1;33m)\u001b[0m\u001b[1;33m\u001b[0m\u001b[1;33m\u001b[0m\u001b[0m\n\u001b[1;32m--> 461\u001b[1;33m         \u001b[0msys_internal_membrane\u001b[0m\u001b[1;33m.\u001b[0m\u001b[0mcombineSubsystems\u001b[0m\u001b[1;33m(\u001b[0m\u001b[0mmembrane_internal\u001b[0m\u001b[1;33m,\u001b[0m \u001b[0mmode\u001b[0m \u001b[1;33m=\u001b[0m \u001b[0mmode\u001b[0m\u001b[1;33m,\u001b[0m \u001b[1;33m**\u001b[0m\u001b[0mkwargs\u001b[0m\u001b[1;33m)\u001b[0m\u001b[1;33m\u001b[0m\u001b[1;33m\u001b[0m\u001b[0m\n\u001b[0m\u001b[0;32m    462\u001b[0m         \u001b[0msystem_sbml\u001b[0m\u001b[1;33m.\u001b[0m\u001b[0mcombineSubsystems\u001b[0m\u001b[1;33m(\u001b[0m\u001b[1;33m[\u001b[0m\u001b[0mexternal_combined_subsystems\u001b[0m\u001b[1;33m,\u001b[0m \u001b[0msys_internal_membrane\u001b[0m\u001b[1;33m]\u001b[0m\u001b[1;33m,\u001b[0m \u001b[0mmode\u001b[0m \u001b[1;33m=\u001b[0m \u001b[0mmode\u001b[0m\u001b[1;33m,\u001b[0m \u001b[1;33m**\u001b[0m\u001b[0mkwargs\u001b[0m\u001b[1;33m)\u001b[0m\u001b[1;33m\u001b[0m\u001b[1;33m\u001b[0m\u001b[0m\n\u001b[0;32m    463\u001b[0m         \u001b[1;31m# system_sbml.combineSubsystems([self.ListOfInternalSubsystems, self.ListOfExternalSubsystems, self.ListOfMembraneSubsystems], mode = mode, **kwargs)\u001b[0m\u001b[1;33m\u001b[0m\u001b[1;33m\u001b[0m\u001b[1;33m\u001b[0m\u001b[0m\n",
      "\u001b[1;32m~\\anaconda3\\lib\\site-packages\\subsbml-0.1-py3.7.egg\\subsbml\\Subsystem.py\u001b[0m in \u001b[0;36mcombineSubsystems\u001b[1;34m(self, ListOfSubsystems, mode, combineNames, **kwargs)\u001b[0m\n\u001b[0;32m    624\u001b[0m                 \u001b[0mmodel\u001b[0m\u001b[1;33m.\u001b[0m\u001b[0maddSpecies\u001b[0m\u001b[1;33m(\u001b[0m\u001b[0mspecies\u001b[0m\u001b[1;33m)\u001b[0m\u001b[1;33m\u001b[0m\u001b[1;33m\u001b[0m\u001b[0m\n\u001b[0;32m    625\u001b[0m             \u001b[0mmod_id\u001b[0m \u001b[1;33m+=\u001b[0m \u001b[1;34m'_'\u001b[0m \u001b[1;33m+\u001b[0m \u001b[0msub_model\u001b[0m\u001b[1;33m.\u001b[0m\u001b[0mgetId\u001b[0m\u001b[1;33m(\u001b[0m\u001b[1;33m)\u001b[0m\u001b[1;33m\u001b[0m\u001b[1;33m\u001b[0m\u001b[0m\n\u001b[1;32m--> 626\u001b[1;33m             \u001b[0msubsystem\u001b[0m\u001b[1;33m.\u001b[0m\u001b[0mcombineSubsystem\u001b[0m\u001b[1;33m(\u001b[0m\u001b[0mListOfResources\u001b[0m\u001b[1;33m,\u001b[0m \u001b[0mmode\u001b[0m\u001b[1;33m)\u001b[0m\u001b[1;33m\u001b[0m\u001b[1;33m\u001b[0m\u001b[0m\n\u001b[0m\u001b[0;32m    627\u001b[0m         \u001b[1;32mif\u001b[0m \u001b[0mcombineNames\u001b[0m \u001b[1;33m==\u001b[0m \u001b[1;32mTrue\u001b[0m\u001b[1;33m:\u001b[0m\u001b[1;33m\u001b[0m\u001b[1;33m\u001b[0m\u001b[0m\n\u001b[0;32m    628\u001b[0m             \u001b[0mself\u001b[0m\u001b[1;33m.\u001b[0m\u001b[0mcombineCompartments\u001b[0m\u001b[1;33m(\u001b[0m\u001b[0mListOfSubsystems\u001b[0m\u001b[1;33m,\u001b[0m \u001b[1;33m**\u001b[0m\u001b[0mkwargs\u001b[0m\u001b[1;33m)\u001b[0m\u001b[1;33m\u001b[0m\u001b[1;33m\u001b[0m\u001b[0m\n",
      "\u001b[1;32m~\\anaconda3\\lib\\site-packages\\subsbml-0.1-py3.7.egg\\subsbml\\Subsystem.py\u001b[0m in \u001b[0;36mcombineSubsystem\u001b[1;34m(self, ListOfResources, mode, **kwargs)\u001b[0m\n\u001b[0;32m    649\u001b[0m         \u001b[0mself\u001b[0m\u001b[1;33m.\u001b[0m\u001b[0mcombineSpecies\u001b[0m\u001b[1;33m(\u001b[0m\u001b[1;33m[\u001b[0m\u001b[1;33m]\u001b[0m\u001b[1;33m,\u001b[0m \u001b[0mListOfResources\u001b[0m\u001b[1;33m,\u001b[0m \u001b[0mmode\u001b[0m\u001b[1;33m,\u001b[0m \u001b[1;33m**\u001b[0m\u001b[0mkwargs\u001b[0m\u001b[1;33m)\u001b[0m\u001b[1;33m\u001b[0m\u001b[1;33m\u001b[0m\u001b[0m\n\u001b[0;32m    650\u001b[0m         \u001b[0mself\u001b[0m\u001b[1;33m.\u001b[0m\u001b[0mcombineParameters\u001b[0m\u001b[1;33m(\u001b[0m\u001b[1;33m[\u001b[0m\u001b[1;33m]\u001b[0m\u001b[1;33m,\u001b[0m \u001b[1;33m**\u001b[0m\u001b[0mkwargs\u001b[0m\u001b[1;33m)\u001b[0m\u001b[1;33m\u001b[0m\u001b[1;33m\u001b[0m\u001b[0m\n\u001b[1;32m--> 651\u001b[1;33m         \u001b[0mself\u001b[0m\u001b[1;33m.\u001b[0m\u001b[0mcombineReactions\u001b[0m\u001b[1;33m(\u001b[0m\u001b[1;33m[\u001b[0m\u001b[1;33m]\u001b[0m\u001b[1;33m,\u001b[0m \u001b[1;33m**\u001b[0m\u001b[0mkwargs\u001b[0m\u001b[1;33m)\u001b[0m\u001b[1;33m\u001b[0m\u001b[1;33m\u001b[0m\u001b[0m\n\u001b[0m\u001b[0;32m    652\u001b[0m         \u001b[0mself\u001b[0m\u001b[1;33m.\u001b[0m\u001b[0mcombineUnitDefinitions\u001b[0m\u001b[1;33m(\u001b[0m\u001b[1;33m[\u001b[0m\u001b[1;33m]\u001b[0m\u001b[1;33m,\u001b[0m \u001b[1;33m**\u001b[0m\u001b[0mkwargs\u001b[0m\u001b[1;33m)\u001b[0m\u001b[1;33m\u001b[0m\u001b[1;33m\u001b[0m\u001b[0m\n\u001b[0;32m    653\u001b[0m         \u001b[0mself\u001b[0m\u001b[1;33m.\u001b[0m\u001b[0mcombineFunctionDefinitions\u001b[0m\u001b[1;33m(\u001b[0m\u001b[1;33m[\u001b[0m\u001b[1;33m]\u001b[0m\u001b[1;33m,\u001b[0m \u001b[1;33m**\u001b[0m\u001b[0mkwargs\u001b[0m\u001b[1;33m)\u001b[0m\u001b[1;33m\u001b[0m\u001b[1;33m\u001b[0m\u001b[0m\n",
      "\u001b[1;32m~\\anaconda3\\lib\\site-packages\\subsbml-0.1-py3.7.egg\\subsbml\\Subsystem.py\u001b[0m in \u001b[0;36mcombineReactions\u001b[1;34m(self, ListOfSubsystems, **kwargs)\u001b[0m\n\u001b[0;32m   1341\u001b[0m                     \u001b[0msref\u001b[0m \u001b[1;33m=\u001b[0m \u001b[0mrc1_list\u001b[0m\u001b[1;33m[\u001b[0m\u001b[0mi\u001b[0m\u001b[1;33m]\u001b[0m\u001b[1;33m\u001b[0m\u001b[1;33m\u001b[0m\u001b[0m\n\u001b[0;32m   1342\u001b[0m                     \u001b[0mspecies\u001b[0m \u001b[1;33m=\u001b[0m \u001b[0msub_model\u001b[0m\u001b[1;33m.\u001b[0m\u001b[0mgetElementBySId\u001b[0m\u001b[1;33m(\u001b[0m\u001b[0msref\u001b[0m\u001b[1;33m.\u001b[0m\u001b[0mgetSpecies\u001b[0m\u001b[1;33m(\u001b[0m\u001b[1;33m)\u001b[0m\u001b[1;33m)\u001b[0m\u001b[1;33m\u001b[0m\u001b[1;33m\u001b[0m\u001b[0m\n\u001b[1;32m-> 1343\u001b[1;33m                     \u001b[1;32mif\u001b[0m \u001b[0mspecies\u001b[0m\u001b[1;33m.\u001b[0m\u001b[0misSetName\u001b[0m\u001b[1;33m(\u001b[0m\u001b[1;33m)\u001b[0m\u001b[1;33m:\u001b[0m\u001b[1;33m\u001b[0m\u001b[1;33m\u001b[0m\u001b[0m\n\u001b[0m\u001b[0;32m   1344\u001b[0m                         \u001b[0mrStr\u001b[0m \u001b[1;33m+=\u001b[0m \u001b[0mspecies\u001b[0m\u001b[1;33m.\u001b[0m\u001b[0mgetName\u001b[0m\u001b[1;33m(\u001b[0m\u001b[1;33m)\u001b[0m\u001b[1;33m\u001b[0m\u001b[1;33m\u001b[0m\u001b[0m\n\u001b[0;32m   1345\u001b[0m                     \u001b[1;32melse\u001b[0m\u001b[1;33m:\u001b[0m\u001b[1;33m\u001b[0m\u001b[1;33m\u001b[0m\u001b[0m\n",
      "\u001b[1;31mAttributeError\u001b[0m: 'NoneType' object has no attribute 'isSetName'"
     ]
    }
   ],
   "source": [
    "ss1 = createSubsystem (\"BiSwitch_CRN.xml\")\n",
    "ss2 = createSubsystem (\"rR1_external_reservoir.xml\")\n",
    "\n",
    "# Create a simple rR1 membrane where it can go in and out of membrane\n",
    "mb1 = createSubsystem(\"membrane_rR1.xml\", membrane = True)\n",
    "\n",
    "cell_1 = System (\"cell_1\", ListOfInternalSubsystems = [ss1],\n",
    "                  ListOfExternalSubsystems = [ss2],\n",
    "                  ListOfMembraneSubsystems = [mb1])\n",
    "\n",
    "cell_1_model = cell_1.getModel()\n",
    "\n",
    "#cell_1_model.setSpeciesAmount('rR1_e', 10, compartment = 'cell_1_external')\n",
    "#cell_1_model.setSpeciesAmount('Core1_OFF', 600, compartment = 'cell_1_internal')\n",
    "#cell_1_model.setSpeciesAmount('Core2_OFF', 500, compartment = 'cell_1_internal')\n",
    "#cell_1_model.setSpeciesAmount('dna_dA2', 600, compartment = 'cell_1_internal')\n",
    "#cell_1_model.setSpeciesAmount('dna_dA1', 600, compartment = 'cell_1_internal')\n",
    "#cell_1_model.setSpeciesAmount('protein_RNAseH', 20, compartment = 'cell_1_internal')\n",
    "#cell_1_model.getSBMLDocument().getModel().getCompartment(1).setSize(1e-4) \n",
    "#cell_1_model.writeSBML('cell_1_model.xml')"
   ]
  },
  {
   "cell_type": "code",
   "execution_count": null,
   "metadata": {},
   "outputs": [],
   "source": []
  }
 ],
 "metadata": {
  "kernelspec": {
   "display_name": "Python 3",
   "language": "python",
   "name": "python3"
  },
  "language_info": {
   "codemirror_mode": {
    "name": "ipython",
    "version": 3
   },
   "file_extension": ".py",
   "mimetype": "text/x-python",
   "name": "python",
   "nbconvert_exporter": "python",
   "pygments_lexer": "ipython3",
   "version": "3.7.7"
  }
 },
 "nbformat": 4,
 "nbformat_minor": 4
}
