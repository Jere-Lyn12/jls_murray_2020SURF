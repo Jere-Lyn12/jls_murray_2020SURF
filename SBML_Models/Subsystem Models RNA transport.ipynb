{
 "cells": [
  {
   "cell_type": "markdown",
   "metadata": {},
   "source": [
    "# Creates SBML Models for Sub-SBML\n",
    "Note: SBML for Bistable Switch already created in Adding rR2 notebook. File name is BiSwitch_CRN.xml\n",
    "\n",
    "1. Simple rR1 diffusion model (Agrima's atc model)\n",
    "1. Advanced diffusion of rR1 (Agrima's dna export model)\n",
    "1. External source with rI# (try integration)"
   ]
  },
  {
   "cell_type": "markdown",
   "metadata": {},
   "source": [
    "# Bistable Switch\n",
    "SBML file down below"
   ]
  },
  {
   "cell_type": "code",
   "execution_count": 1,
   "metadata": {},
   "outputs": [],
   "source": [
    "from biocrnpyler import *\n",
    "from genelet import *\n",
    "import pylab as plt\n",
    "import numpy as np"
   ]
  },
  {
   "cell_type": "code",
   "execution_count": 2,
   "metadata": {},
   "outputs": [
    {
     "name": "stdout",
     "output_type": "stream",
     "text": [
      "Species (18) = {0. Core1_OFF, 1. complex[dna[dA2]:Core1_OFF], 2. rna[rR1], 3. dna[dA2], 4. rna[rR2], 5. protein[RNAP], 6. protein[RNAseH], 7. complex[rna[rR2]:dna[dA2]], 8. complex[complex[dna[dA2]:Core1_OFF]:protein[RNAP]], 9. complex[Core1_OFF:protein[RNAP]], 10. complex[complex[rna[rR2]:dna[dA2]]:protein[RNAseH]], 11. Core2_OFF, 12. complex[dna[dA1]:Core2_OFF], 13. dna[dA1], 14. complex[rna[rR1]:dna[dA1]], 15. complex[complex[dna[dA1]:Core2_OFF]:protein[RNAP]], 16. complex[Core2_OFF:protein[RNAP]], 17. complex[complex[rna[rR1]:dna[dA1]]:protein[RNAseH]]}\n",
      "Reactions (18) = [\n",
      "0. Core1_OFF + dna[dA2] --> complex[dna[dA2]:Core1_OFF]        \n",
      "        massaction: k_f(Core1_OFF,dna[dA2])=0.00394*Core1_OFF*dna[dA2]\n",
      "1. complex[dna[dA2]:Core1_OFF] + rna[rR2] --> Core1_OFF + complex[rna[rR2]:dna[dA2]]        \n",
      "        massaction: k_f(complex[dna[dA2]:Core1_OFF],rna[rR2])=0.0696*complex[dna[dA2]:Core1_OFF]*rna[rR2]\n",
      "2. dna[dA2] + rna[rR2] --> complex[rna[rR2]:dna[dA2]]        \n",
      "        massaction: k_f(dna[dA2],rna[rR2])=0.0696*dna[dA2]*rna[rR2]\n",
      "3. complex[dna[dA2]:Core1_OFF] + protein[RNAP] <--> complex[complex[dna[dA2]:Core1_OFF]:protein[RNAP]]        \n",
      "        massaction: k_f(complex[dna[dA2]:Core1_OFF],protein[RNAP])=38.857142857142854*complex[dna[dA2]:Core1_OFF]*protein[RNAP]\n",
      "        k_r(complex[complex[dna[dA2]:Core1_OFF]:protein[RNAP]])=10.0*complex[complex[dna[dA2]:Core1_OFF]:protein[RNAP]]\n",
      "4. complex[complex[dna[dA2]:Core1_OFF]:protein[RNAP]] --> complex[dna[dA2]:Core1_OFF] + rna[rR1] + protein[RNAP]        \n",
      "        massaction: k_f(complex[complex[dna[dA2]:Core1_OFF]:protein[RNAP]])=0.064*complex[complex[dna[dA2]:Core1_OFF]:protein[RNAP]]\n",
      "5. Core1_OFF + protein[RNAP] <--> complex[Core1_OFF:protein[RNAP]]        \n",
      "        massaction: k_f(Core1_OFF,protein[RNAP])=9.53047619047619*Core1_OFF*protein[RNAP]\n",
      "        k_r(complex[Core1_OFF:protein[RNAP]])=10.0*complex[Core1_OFF:protein[RNAP]]\n",
      "6. complex[Core1_OFF:protein[RNAP]] --> Core1_OFF + rna[rR1] + protein[RNAP]        \n",
      "        massaction: k_f(complex[Core1_OFF:protein[RNAP]])=0.007*complex[Core1_OFF:protein[RNAP]]\n",
      "7. complex[rna[rR2]:dna[dA2]] + protein[RNAseH] <--> complex[complex[rna[rR2]:dna[dA2]]:protein[RNAseH]]        \n",
      "        massaction: k_f(complex[rna[rR2]:dna[dA2]],protein[RNAseH])=111.82417582417582*complex[rna[rR2]:dna[dA2]]*protein[RNAseH]\n",
      "        k_r(complex[complex[rna[rR2]:dna[dA2]]:protein[RNAseH]])=10.0*complex[complex[rna[rR2]:dna[dA2]]:protein[RNAseH]]\n",
      "8. complex[complex[rna[rR2]:dna[dA2]]:protein[RNAseH]] --> dna[dA2] + protein[RNAseH]        \n",
      "        massaction: k_f(complex[complex[rna[rR2]:dna[dA2]]:protein[RNAseH]])=0.176*complex[complex[rna[rR2]:dna[dA2]]:protein[RNAseH]]\n",
      "9. Core2_OFF + dna[dA1] --> complex[dna[dA1]:Core2_OFF]        \n",
      "        massaction: k_f(Core2_OFF,dna[dA1])=0.00394*Core2_OFF*dna[dA1]\n",
      "10. complex[dna[dA1]:Core2_OFF] + rna[rR1] --> Core2_OFF + complex[rna[rR1]:dna[dA1]]        \n",
      "        massaction: k_f(complex[dna[dA1]:Core2_OFF],rna[rR1])=0.0696*complex[dna[dA1]:Core2_OFF]*rna[rR1]\n",
      "11. dna[dA1] + rna[rR1] --> complex[rna[rR1]:dna[dA1]]        \n",
      "        massaction: k_f(dna[dA1],rna[rR1])=0.0696*dna[dA1]*rna[rR1]\n",
      "12. complex[dna[dA1]:Core2_OFF] + protein[RNAP] <--> complex[complex[dna[dA1]:Core2_OFF]:protein[RNAP]]        \n",
      "        massaction: k_f(complex[dna[dA1]:Core2_OFF],protein[RNAP])=38.857142857142854*complex[dna[dA1]:Core2_OFF]*protein[RNAP]\n",
      "        k_r(complex[complex[dna[dA1]:Core2_OFF]:protein[RNAP]])=10.0*complex[complex[dna[dA1]:Core2_OFF]:protein[RNAP]]\n",
      "13. complex[complex[dna[dA1]:Core2_OFF]:protein[RNAP]] --> complex[dna[dA1]:Core2_OFF] + rna[rR2] + protein[RNAP]        \n",
      "        massaction: k_f(complex[complex[dna[dA1]:Core2_OFF]:protein[RNAP]])=0.064*complex[complex[dna[dA1]:Core2_OFF]:protein[RNAP]]\n",
      "14. Core2_OFF + protein[RNAP] <--> complex[Core2_OFF:protein[RNAP]]        \n",
      "        massaction: k_f(Core2_OFF,protein[RNAP])=9.53047619047619*Core2_OFF*protein[RNAP]\n",
      "        k_r(complex[Core2_OFF:protein[RNAP]])=10.0*complex[Core2_OFF:protein[RNAP]]\n",
      "15. complex[Core2_OFF:protein[RNAP]] --> Core2_OFF + rna[rR2] + protein[RNAP]        \n",
      "        massaction: k_f(complex[Core2_OFF:protein[RNAP]])=0.007*complex[Core2_OFF:protein[RNAP]]\n",
      "16. complex[rna[rR1]:dna[dA1]] + protein[RNAseH] <--> complex[complex[rna[rR1]:dna[dA1]]:protein[RNAseH]]        \n",
      "        massaction: k_f(complex[rna[rR1]:dna[dA1]],protein[RNAseH])=111.82417582417582*complex[rna[rR1]:dna[dA1]]*protein[RNAseH]\n",
      "        k_r(complex[complex[rna[rR1]:dna[dA1]]:protein[RNAseH]])=10.0*complex[complex[rna[rR1]:dna[dA1]]:protein[RNAseH]]\n",
      "17. complex[complex[rna[rR1]:dna[dA1]]:protein[RNAseH]] --> dna[dA1] + protein[RNAseH]        \n",
      "        massaction: k_f(complex[complex[rna[rR1]:dna[dA1]]:protein[RNAseH]])=0.176*complex[complex[rna[rR1]:dna[dA1]]:protein[RNAseH]]\n",
      "]\n"
     ]
    }
   ],
   "source": [
    "# Create CRN for bistable switch\n",
    "Core1_off = Species (\"Core1\")\n",
    "Core2_off = Species (\"Core2\")\n",
    "\n",
    "Core1 = Genelet(Core1_off, transcript = \"rR1\", activator = \"dA2\", inhibitor = \"rR2\" )\n",
    "Core2 = Genelet(Core2_off, transcript = \"rR2\", activator = \"dA1\", inhibitor = \"rR1\" )\n",
    "\n",
    "M_BiSwitch = Mixture(name = \"Switch_test\", components = [Core1, Core2], parameter_file = \"default_parameters.txt\")\n",
    "repr(M_BiSwitch)\n",
    "CRN_BiSwitch = M_BiSwitch.compile_crn()\n",
    "\n",
    "# Write SBML file\n",
    "CRN_BiSwitch.write_sbml_file('BiSwitch_CRN.xml')\n",
    "\n",
    "print(CRN_BiSwitch.pretty_print())"
   ]
  },
  {
   "cell_type": "markdown",
   "metadata": {},
   "source": [
    "# Produce 2N\n",
    "SBML file below with DFHBI in separate reaction"
   ]
  },
  {
   "cell_type": "code",
   "execution_count": 3,
   "metadata": {},
   "outputs": [
    {
     "name": "stdout",
     "output_type": "stream",
     "text": [
      "Species (11) = {0. Prod2_OFF, 1. complex[Prod2_OFF:dna[dA1]], 2. BrocApt, 3. dna[dA1], 4. rna[rR1], 5. protein[RNAP], 6. protein[RNAseH], 7. complex[rna[rR1]:dna[dA1]], 8. complex[complex[Prod2_OFF:dna[dA1]]:protein[RNAP]], 9. complex[Prod2_OFF:protein[RNAP]], 10. complex[complex[rna[rR1]:dna[dA1]]:protein[RNAseH]]}\n",
      "Reactions (9) = [\n",
      "0. Prod2_OFF + dna[dA1] --> complex[Prod2_OFF:dna[dA1]]        \n",
      "        massaction: k_f(Prod2_OFF,dna[dA1])=0.00394*Prod2_OFF*dna[dA1]\n",
      "1. complex[Prod2_OFF:dna[dA1]] + rna[rR1] --> Prod2_OFF + complex[rna[rR1]:dna[dA1]]        \n",
      "        massaction: k_f(complex[Prod2_OFF:dna[dA1]],rna[rR1])=0.0696*complex[Prod2_OFF:dna[dA1]]*rna[rR1]\n",
      "2. dna[dA1] + rna[rR1] --> complex[rna[rR1]:dna[dA1]]        \n",
      "        massaction: k_f(dna[dA1],rna[rR1])=0.0696*dna[dA1]*rna[rR1]\n",
      "3. complex[Prod2_OFF:dna[dA1]] + protein[RNAP] <--> complex[complex[Prod2_OFF:dna[dA1]]:protein[RNAP]]        \n",
      "        massaction: k_f(complex[Prod2_OFF:dna[dA1]],protein[RNAP])=38.857142857142854*complex[Prod2_OFF:dna[dA1]]*protein[RNAP]\n",
      "        k_r(complex[complex[Prod2_OFF:dna[dA1]]:protein[RNAP]])=10.0*complex[complex[Prod2_OFF:dna[dA1]]:protein[RNAP]]\n",
      "4. complex[complex[Prod2_OFF:dna[dA1]]:protein[RNAP]] --> complex[Prod2_OFF:dna[dA1]] + BrocApt + protein[RNAP]        \n",
      "        massaction: k_f(complex[complex[Prod2_OFF:dna[dA1]]:protein[RNAP]])=0.064*complex[complex[Prod2_OFF:dna[dA1]]:protein[RNAP]]\n",
      "5. Prod2_OFF + protein[RNAP] <--> complex[Prod2_OFF:protein[RNAP]]        \n",
      "        massaction: k_f(Prod2_OFF,protein[RNAP])=9.53047619047619*Prod2_OFF*protein[RNAP]\n",
      "        k_r(complex[Prod2_OFF:protein[RNAP]])=10.0*complex[Prod2_OFF:protein[RNAP]]\n",
      "6. complex[Prod2_OFF:protein[RNAP]] --> Prod2_OFF + BrocApt + protein[RNAP]        \n",
      "        massaction: k_f(complex[Prod2_OFF:protein[RNAP]])=0.007*complex[Prod2_OFF:protein[RNAP]]\n",
      "7. complex[rna[rR1]:dna[dA1]] + protein[RNAseH] <--> complex[complex[rna[rR1]:dna[dA1]]:protein[RNAseH]]        \n",
      "        massaction: k_f(complex[rna[rR1]:dna[dA1]],protein[RNAseH])=111.82417582417582*complex[rna[rR1]:dna[dA1]]*protein[RNAseH]\n",
      "        k_r(complex[complex[rna[rR1]:dna[dA1]]:protein[RNAseH]])=10.0*complex[complex[rna[rR1]:dna[dA1]]:protein[RNAseH]]\n",
      "8. complex[complex[rna[rR1]:dna[dA1]]:protein[RNAseH]] --> dna[dA1] + protein[RNAseH]        \n",
      "        massaction: k_f(complex[complex[rna[rR1]:dna[dA1]]:protein[RNAseH]])=0.176*complex[complex[rna[rR1]:dna[dA1]]:protein[RNAseH]]\n",
      "]\n"
     ]
    }
   ],
   "source": [
    "# Create CRN of Produce 2N\n",
    "Prod2_off = Species(\"Prod2\")\n",
    "Broccoli_Aptamer = Species(\"BrocApt\")\n",
    "\n",
    "Prod2 = Genelet(Prod2_off, transcript= Broccoli_Aptamer , activator= \"dA1\"  , inhibitor= \"rR1\")\n",
    "M_Prod2 = Mixture(name = \"Produce2_test\", components = [Prod2], parameter_file = \"default_parameters.txt\")\n",
    "repr(M_Prod2)\n",
    "CRN_Prod2 = M_Prod2.compile_crn()\n",
    "\n",
    "# Write SBML\n",
    "CRN_Prod2.write_sbml_file('Prod2_CRN.xml')\n",
    "\n",
    "print(CRN_Prod2.pretty_print())"
   ]
  },
  {
   "cell_type": "markdown",
   "metadata": {},
   "source": [
    "#### Create CRN for DFHBI and Broc Apt Binding"
   ]
  },
  {
   "cell_type": "code",
   "execution_count": 4,
   "metadata": {},
   "outputs": [
    {
     "name": "stdout",
     "output_type": "stream",
     "text": [
      "Species = BrocApt, DFHBI, complex_BrocApt_DFHBI\n",
      "Reactions = [\n",
      "\tBrocApt + DFHBI --> complex_BrocApt_DFHBI        massaction: k_f(BrocApt,DFHBI)=9.96e-05*BrocApt*DFHBI\n",
      "]\n"
     ]
    }
   ],
   "source": [
    "### Species ###\n",
    "Broccoli_Aptamer = Species(\"BrocApt\")\n",
    "DFHBI = Species(\"DFHBI\")\n",
    "Flu1 = ComplexSpecies([Broccoli_Aptamer,DFHBI])\n",
    "species = [Broccoli_Aptamer, DFHBI, Flu1]\n",
    "\n",
    "### Create Reaction ###\n",
    "rxn1 = Reaction([Broccoli_Aptamer, DFHBI], [Flu1], propensity_type = \"massaction\", k= 9.96e-5)\n",
    "rxns = [rxn1]\n",
    "\n",
    "D = ChemicalReactionNetwork(species = species, reactions = rxns)\n",
    "_ = D.write_sbml_file('DFHBI.xml')\n",
    "print(D)"
   ]
  },
  {
   "cell_type": "markdown",
   "metadata": {},
   "source": [
    "# rR1 external reservoir"
   ]
  },
  {
   "cell_type": "code",
   "execution_count": 5,
   "metadata": {},
   "outputs": [
    {
     "name": "stdout",
     "output_type": "stream",
     "text": [
      "<subsbml.Subsystem.Subsystem object at 0x0000024B090D26C8>\n"
     ]
    }
   ],
   "source": [
    "##### Creating rR1 reservoir model####\n",
    "\n",
    "from subsbml import createBasicSubsystem, SimpleModel\n",
    "\n",
    "\n",
    "rR1_ss, rR1_model = createBasicSubsystem('external_reservoir')\n",
    "\n",
    "per_second = rR1_model.createNewUnitDefinition(uId = 'per_second',uKind = libsbml.UNIT_KIND_SECOND,\n",
    "                                                uExponent = -1)\n",
    "substance = rR1_model.createNewUnitDefinition('substance',libsbml.UNIT_KIND_DIMENSIONLESS, uExponent = 1)\n",
    "\n",
    "rR1_model.createNewSpecies('rna_rR1_e',sComp = 'external_reservoir', ListOfAmounts = 0, \n",
    "                             sConstant = False, sSubstance = 'substance')\n",
    "\n",
    "# Write to SBML file \n",
    "exsub = rR1_ss.writeSBML('rR1_external_reservoir.xml')\n",
    "print(rR1_ss)"
   ]
  },
  {
   "cell_type": "markdown",
   "metadata": {},
   "source": [
    "# rR1 simple membrane model\n",
    "\n",
    "rR1_internal $\\leftrightarrow$ rR1_external"
   ]
  },
  {
   "cell_type": "code",
   "execution_count": 6,
   "metadata": {},
   "outputs": [
    {
     "name": "stdout",
     "output_type": "stream",
     "text": [
      "Model written to a SBML file successfully\n"
     ]
    }
   ],
   "source": [
    "##### Creating a basic membrane model for IPTG transport####\n",
    "\n",
    "from subsbml import createNewSubsystem, SimpleModel, SimpleReaction\n",
    "import libsbml\n",
    "\n",
    "rR1_mb_ss = createNewSubsystem()\n",
    "model = rR1_mb_ss.createNewModel('rR1_membrane','second','mole','substance')\n",
    "\n",
    "rR1_mb = SimpleModel(model)\n",
    "\n",
    "per_second = rR1_mb.createNewUnitDefinition('per_second',libsbml.UNIT_KIND_SECOND,-1,0,1)\n",
    "substance = rR1_mb.createNewUnitDefinition('substance',libsbml.UNIT_KIND_DIMENSIONLESS, 1, 0, 1)\n",
    "\n",
    "################# Two important lines of code when creating membrane #########################\n",
    "rR1_mb.createNewCompartment('internal','internal',1e-6,'litre',True)\n",
    "rR1_mb.createNewCompartment('external','external',1e-6,'litre',True)\n",
    "##############################################################################################\n",
    "\n",
    "rR1_mb.createNewSpecies( 'rna_rR1_e','external',1e4,False,'substance')\n",
    "rR1_mb.createNewSpecies( 'rna_rR1','internal',0,False,'substance')\n",
    "\n",
    "rR1_mb.createNewParameter( 'kb',2e-3,False,'per_second')\n",
    "rR1_mb.createNewParameter( 'kd',1e-5,False,'per_second')\n",
    "\n",
    "# model = IPTG_mb_ss.getSBMLDocument().getModel()\n",
    "r1_sbml = model.createReaction()\n",
    "r1 = SimpleReaction(r1_sbml)\n",
    "r1.setId('r1')\n",
    "r1.setReversible(True)\n",
    "r1.createNewReactant('rna_rR1_e',False,1)\n",
    "r1.createNewProduct('rna_rR1', False, 1)\n",
    "r1.createRate('kb * rna_rR1_e - kd * rna_rR1')\n",
    "\n",
    "# Write to SBML file \n",
    "_ = rR1_mb_ss.writeSBML('simplemembrane_rR1.xml')\n",
    "print('Model written to a SBML file successfully')"
   ]
  },
  {
   "cell_type": "markdown",
   "metadata": {},
   "source": [
    "# rR1 advanced membrane model (SID)"
   ]
  },
  {
   "cell_type": "markdown",
   "metadata": {},
   "source": []
  },
  {
   "cell_type": "code",
   "execution_count": 7,
   "metadata": {},
   "outputs": [
    {
     "name": "stdout",
     "output_type": "stream",
     "text": [
      "Model written to a SBML file successfully\n"
     ]
    }
   ],
   "source": [
    "##### Creating a advanced membrane model for RNA transport####\n",
    "##### Based on Agrima's DNA membrane 1 #####\n",
    "\n",
    "from subsbml import createNewSubsystem, SimpleModel, SimpleReaction\n",
    "\n",
    "rnaexp_mb_ss = createNewSubsystem()\n",
    "model = rnaexp_mb_ss.createNewModel('rnaexp_membrane','second','mole','substance')\n",
    "\n",
    "rnaexp_mb = SimpleModel(model)\n",
    "\n",
    "per_second = rnaexp_mb.createNewUnitDefinition('per_second',libsbml.UNIT_KIND_SECOND,-1,0,1)\n",
    "substance = rnaexp_mb.createNewUnitDefinition('substance',libsbml.UNIT_KIND_DIMENSIONLESS, 1, 0, 1)\n",
    "\n",
    "################# Two important lines of code when creating membrane #########################\n",
    "rnaexp_mb.createNewCompartment('internal','internal',1e-6,'litre',True)\n",
    "rnaexp_mb.createNewCompartment('external','external',1e-6,'litre',True)\n",
    "##############################################################################################\n",
    "\n",
    "rnaexp_mb.createNewSpecies( 'rna_rR1_e','external',0,False,'substance')\n",
    "rnaexp_mb.createNewSpecies( 'rna_rR1','internal',0,False,'substance')\n",
    "rnaexp_mb.createNewSpecies( 'SID_b','internal',0,False,'substance')\n",
    "rnaexp_mb.createNewSpecies( 'SID_b_rna_rR1','internal',0,False,'substance')\n",
    "\n",
    "rnaexp_mb.createNewParameter( 'kb1',0.002,False,'per_second')\n",
    "rnaexp_mb.createNewParameter( 'kd1',0.00001,False,'per_second')\n",
    "rnaexp_mb.createNewParameter( 'kd2',0.01,False,'per_second')\n",
    "\n",
    "\n",
    "model = rnaexp_mb_ss.getSBMLDocument().getModel()\n",
    "\n",
    "R1 = SimpleReaction(model.createReaction())\n",
    "R1.setId('R1')\n",
    "R1.setReversible(True)\n",
    "R1.createNewReactant('SID_b',False,1)\n",
    "R1.createNewReactant('rna_rR1', False, 1)\n",
    "R1.createNewProduct('SID_b_rna_rR1', False, 1)\n",
    "R1.createRate('kb1 * SID_b * rna_rR1 - kd1 * SID_b_rna_rR1')\n",
    "\n",
    "\n",
    "R2 = SimpleReaction(model.createReaction())\n",
    "R2.setId('R2')\n",
    "R2.setReversible(False)\n",
    "R2.createNewReactant('SID_b_rna_rR1',False,1)\n",
    "R2.createNewProduct('rna_rR1_e',False,1)\n",
    "R2.createNewProduct('SID_b',False,1)\n",
    "R2.createRate('kd2 * SID_b_rna_rR1')\n",
    "\n",
    "\n",
    "# Write to SBML file \n",
    "_ = rnaexp_mb_ss.writeSBML('RNAexp_membrane1.xml')\n",
    "print('Model written to a SBML file successfully')"
   ]
  },
  {
   "cell_type": "raw",
   "metadata": {},
   "source": [
    "##### Creating a advanced membrane model for DNA transport####\n",
    "#### Agrima's membrane model 3 #####\n",
    "\n",
    "from subsbml import createNewSubsystem, SimpleModel, SimpleReaction\n",
    "import libsbml\n",
    "\n",
    "rnaexp_mb_ss = createNewSubsystem()\n",
    "model = rnaexp_mb_ss.createNewModel('rnaexp_membrane','second','mole','substance')\n",
    "\n",
    "rnaexp_mb = SimpleModel(model)\n",
    "\n",
    "per_second = rnaexp_mb.createNewUnitDefinition('per_second',libsbml.UNIT_KIND_SECOND,-1,0,1)\n",
    "substance = rnaexp_mb.createNewUnitDefinition('substance',libsbml.UNIT_KIND_DIMENSIONLESS, 1, 0, 1)\n",
    "\n",
    "################# Two important lines of code when creating membrane #########################\n",
    "rnaexp_mb.createNewCompartment('internal','internal',1e-6,'litre',True)\n",
    "rnaexp_mb.createNewCompartment('external','external',1e-6,'litre',True)\n",
    "##############################################################################################\n",
    "\n",
    "rnaexp_mb.createNewSpecies( 'rna_rR1','external',0,False,'substance')\n",
    "rnaexp_mb.createNewSpecies( 'rna_rR1','internal',0,False,'substance')\n",
    "rnaexp_mb.createNewSpecies( 'SID_b','internal',1,False,'substance')\n",
    "rnaexp_mb.createNewSpecies( 'SID_b_rna_rR1','internal',0,False,'substance')\n",
    "\n",
    "rnaexp_mb.createNewParameter( 'kb',0.2,False,'per_second')\n",
    "rnaexp_mb.createNewParameter( 'kd',0.01,False,'per_second')\n",
    "\n",
    "model = rnaexp_mb_ss.getSBMLDocument().getModel()\n",
    "\n",
    "R1 = SimpleReaction(model.createReaction())\n",
    "R1.setId('R1')\n",
    "R1.setReversible(True)\n",
    "R1.createNewReactant('SID_b',False,1)\n",
    "R1.createNewReactant('rna_rR1', False, 1)\n",
    "R1.createNewProduct('SID_b_rna_rR1', False, 1)\n",
    "R1.createRate('kb * SID_b * rna_rR1 - kd * SID_b_rna_rR1')\n",
    "\n",
    "\n",
    "R2 = SimpleReaction(model.createReaction())\n",
    "R2.setId('R2')\n",
    "R2.setReversible(True)\n",
    "R2.createNewReactant('VirE2_b_rna_rR1',False,1)\n",
    "R2.createNewProduct('rna_rR1_1',False,1)\n",
    "R2.createNewProduct('SID_b',False,1)\n",
    "R2.createRate('kd * SID_b_rna_rR1 - kb * SID_b * rna_rR1_1')\n",
    "\n",
    "\n",
    "# Write to SBML file \n",
    "_ = rnaexp_mb_ss.writeSBML('RNAexp_membrane3.xml')\n",
    "print('Model written to a SBML file successfully')"
   ]
  },
  {
   "cell_type": "code",
   "execution_count": 8,
   "metadata": {},
   "outputs": [
    {
     "name": "stdout",
     "output_type": "stream",
     "text": [
      "Model written to a SBML file successfully\n"
     ]
    }
   ],
   "source": [
    "#### Agrima's dnaexp_membrane3.xml ####\n",
    "\n",
    "from subsbml import createNewSubsystem, SimpleModel, SimpleReaction\n",
    "import libsbml\n",
    "\n",
    "rnaexp_mb_ss = createNewSubsystem()\n",
    "\n",
    "\n",
    "model = rnaexp_mb_ss.createNewModel('rnaexp_membrane','second','mole','substance')\n",
    "\n",
    "rnaexp_mb = SimpleModel(model)\n",
    "\n",
    "per_second = rnaexp_mb.createNewUnitDefinition('per_second',libsbml.UNIT_KIND_SECOND,-1,0,1)\n",
    "substance = rnaexp_mb.createNewUnitDefinition('substance',libsbml.UNIT_KIND_DIMENSIONLESS, 1, 0, 1)\n",
    "\n",
    "################# Two important lines of code when creating membrane #########################\n",
    "rnaexp_mb.createNewCompartment('internal','internal',1e-6,'litre',True)\n",
    "rnaexp_mb.createNewCompartment('external','external',1e-6,'litre',True)\n",
    "##############################################################################################\n",
    "\n",
    "rnaexp_mb.createNewSpecies( 'rna_rR1_e','external',0,False,'substance')\n",
    "rnaexp_mb.createNewSpecies( 'rna_rR1','internal',0,False,'substance')\n",
    "rnaexp_mb.createNewSpecies( 'sid','internal',1,False,'substance')\n",
    "rnaexp_mb.createNewSpecies( 'rna_rR1_sid','internal',0,False,'substance')\n",
    "\n",
    "rnaexp_mb.createNewParameter( 'kb',0.2,False,'per_second') #0.2\n",
    "rnaexp_mb.createNewParameter( 'kd',0.01,False,'per_second') #0.01\n",
    "\n",
    "model = rnaexp_mb_ss.getSBMLDocument().getModel()\n",
    "\n",
    "R1 = SimpleReaction(model.createReaction())\n",
    "R1.setId('R1')\n",
    "R1.setReversible(True)\n",
    "R1.createNewReactant('sid',False,1)\n",
    "R1.createNewReactant('rna_rR1', False, 1)\n",
    "R1.createNewProduct('rna_rR1_sid', False, 1)\n",
    "R1.createRate('kb * sid * rna_rR1 - kd * rna_rR1_sid')\n",
    "\n",
    "R2 = SimpleReaction(model.createReaction())\n",
    "R2.setId('R2')\n",
    "R2.setReversible(True)\n",
    "R2.createNewReactant('rna_rR1_sid',False,1)\n",
    "R2.createNewProduct('rna_rR1_e',False,1)\n",
    "R2.createNewProduct('sid',False,1)\n",
    "R2.createRate('kd * rna_rR1_sid - kb * sid * rna_rR1_e')\n",
    "\n",
    "\n",
    "# Write to SBML file \n",
    "_ = rnaexp_mb_ss.writeSBML('rR1_membrane1_detailed.xml')\n",
    "print('Model written to a SBML file successfully')\n"
   ]
  },
  {
   "cell_type": "code",
   "execution_count": null,
   "metadata": {},
   "outputs": [],
   "source": []
  }
 ],
 "metadata": {
  "kernelspec": {
   "display_name": "Python 3",
   "language": "python",
   "name": "python3"
  },
  "language_info": {
   "codemirror_mode": {
    "name": "ipython",
    "version": 3
   },
   "file_extension": ".py",
   "mimetype": "text/x-python",
   "name": "python",
   "nbconvert_exporter": "python",
   "pygments_lexer": "ipython3",
   "version": "3.7.7"
  }
 },
 "nbformat": 4,
 "nbformat_minor": 4
}
