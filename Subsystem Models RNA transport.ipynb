{
 "cells": [
  {
   "cell_type": "markdown",
   "metadata": {},
   "source": [
    "# Creates SBML Models for Sub-SBML\n",
    "Note: SBML for Bistable Switch already created in Adding rR2 notebook. File name is BiSwitch_CRN.xml\n",
    "\n",
    "1. Simple rR1 diffusion model (Agrima's atc model)\n",
    "1. Advanced diffusion of rR1 (Agrima's dna export model)\n",
    "1. External source with rI# (try integration)"
   ]
  },
  {
   "cell_type": "markdown",
   "metadata": {},
   "source": [
    "# Bistable Switch\n",
    "SBML file down below"
   ]
  },
  {
   "cell_type": "code",
   "execution_count": 1,
   "metadata": {},
   "outputs": [],
   "source": [
    "from biocrnpyler import *\n",
    "from genelet import *\n",
    "import pylab as plt\n",
    "import numpy as np"
   ]
  },
  {
   "cell_type": "code",
   "execution_count": 2,
   "metadata": {},
   "outputs": [
    {
     "name": "stdout",
     "output_type": "stream",
     "text": [
      "Species = Core1_OFF, complex_Core1_ON, rna_rR1_i, dna_dA2, rna_rR2, protein_RNAP, protein_RNAseH, complex_Core1_AI, complex_Core1_ON_protein_RNAP, complex_Core1_OFF_protein_RNAP, complex_Core1_AI_protein_RNAseH, Core2_OFF, complex_Core2_ON, dna_dA1, complex_Core2_AI, complex_Core2_ON_protein_RNAP, complex_Core2_OFF_protein_RNAP, complex_Core2_AI_protein_RNAseH\n",
      "Reactions = [\n",
      "\tCore1_OFF + dna_dA2 --> complex_Core1_ON        massaction: k_f(Core1_OFF,dna_dA2)=0.00394*Core1_OFF*dna_dA2\n",
      "\tcomplex_Core1_ON + rna_rR2 --> Core1_OFF + complex_Core1_AI        massaction: k_f(complex_Core1_ON,rna_rR2)=0.0696*complex_Core1_ON*rna_rR2\n",
      "\tdna_dA2 + rna_rR2 --> complex_Core1_AI        massaction: k_f(dna_dA2,rna_rR2)=0.0696*dna_dA2*rna_rR2\n",
      "\tcomplex_Core1_ON + protein_RNAP <--> complex_Core1_ON_protein_RNAP        massaction: k_f(complex_Core1_ON,protein_RNAP)=38.857142857142854*complex_Core1_ON*protein_RNAP k_r(complex_Core1_ON_protein_RNAP)=10.0*complex_Core1_ON_protein_RNAP\n",
      "\tcomplex_Core1_ON_protein_RNAP --> complex_Core1_ON + rna_rR1_i + protein_RNAP        massaction: k_f(complex_Core1_ON_protein_RNAP)=0.064*complex_Core1_ON_protein_RNAP\n",
      "\tCore1_OFF + protein_RNAP <--> complex_Core1_OFF_protein_RNAP        massaction: k_f(Core1_OFF,protein_RNAP)=9.53047619047619*Core1_OFF*protein_RNAP k_r(complex_Core1_OFF_protein_RNAP)=10.0*complex_Core1_OFF_protein_RNAP\n",
      "\tcomplex_Core1_OFF_protein_RNAP --> Core1_OFF + rna_rR1_i + protein_RNAP        massaction: k_f(complex_Core1_OFF_protein_RNAP)=0.007*complex_Core1_OFF_protein_RNAP\n",
      "\tcomplex_Core1_AI + protein_RNAseH <--> complex_Core1_AI_protein_RNAseH        massaction: k_f(complex_Core1_AI,protein_RNAseH)=111.82417582417582*complex_Core1_AI*protein_RNAseH k_r(complex_Core1_AI_protein_RNAseH)=10.0*complex_Core1_AI_protein_RNAseH\n",
      "\tcomplex_Core1_AI_protein_RNAseH --> dna_dA2 + protein_RNAseH        massaction: k_f(complex_Core1_AI_protein_RNAseH)=0.176*complex_Core1_AI_protein_RNAseH\n",
      "\tCore2_OFF + dna_dA1 --> complex_Core2_ON        massaction: k_f(Core2_OFF,dna_dA1)=0.00394*Core2_OFF*dna_dA1\n",
      "\tcomplex_Core2_ON + rna_rR1_i --> Core2_OFF + complex_Core2_AI        massaction: k_f(complex_Core2_ON,rna_rR1_i)=0.0696*complex_Core2_ON*rna_rR1_i\n",
      "\tdna_dA1 + rna_rR1_i --> complex_Core2_AI        massaction: k_f(dna_dA1,rna_rR1_i)=0.0696*dna_dA1*rna_rR1_i\n",
      "\tcomplex_Core2_ON + protein_RNAP <--> complex_Core2_ON_protein_RNAP        massaction: k_f(complex_Core2_ON,protein_RNAP)=38.857142857142854*complex_Core2_ON*protein_RNAP k_r(complex_Core2_ON_protein_RNAP)=10.0*complex_Core2_ON_protein_RNAP\n",
      "\tcomplex_Core2_ON_protein_RNAP --> complex_Core2_ON + rna_rR2 + protein_RNAP        massaction: k_f(complex_Core2_ON_protein_RNAP)=0.064*complex_Core2_ON_protein_RNAP\n",
      "\tCore2_OFF + protein_RNAP <--> complex_Core2_OFF_protein_RNAP        massaction: k_f(Core2_OFF,protein_RNAP)=9.53047619047619*Core2_OFF*protein_RNAP k_r(complex_Core2_OFF_protein_RNAP)=10.0*complex_Core2_OFF_protein_RNAP\n",
      "\tcomplex_Core2_OFF_protein_RNAP --> Core2_OFF + rna_rR2 + protein_RNAP        massaction: k_f(complex_Core2_OFF_protein_RNAP)=0.007*complex_Core2_OFF_protein_RNAP\n",
      "\tcomplex_Core2_AI + protein_RNAseH <--> complex_Core2_AI_protein_RNAseH        massaction: k_f(complex_Core2_AI,protein_RNAseH)=111.82417582417582*complex_Core2_AI*protein_RNAseH k_r(complex_Core2_AI_protein_RNAseH)=10.0*complex_Core2_AI_protein_RNAseH\n",
      "\tcomplex_Core2_AI_protein_RNAseH --> dna_dA1 + protein_RNAseH        massaction: k_f(complex_Core2_AI_protein_RNAseH)=0.176*complex_Core2_AI_protein_RNAseH\n",
      "]\n"
     ]
    }
   ],
   "source": [
    "# Create CRN for bistable switch\n",
    "Core1_off = Species (\"Core1\")\n",
    "Core2_off = Species (\"Core2\")\n",
    "\n",
    "Core1 = Genelet(Core1_off, transcript = \"rR1_i\", activator = \"dA2\", inhibitor = \"rR2\" )\n",
    "Core2 = Genelet(Core2_off, transcript = \"rR2\", activator = \"dA1\", inhibitor = \"rR1_i\" )\n",
    "\n",
    "M_BiSwitch = Mixture(name = \"Switch_test\", components = [Core1, Core2], parameter_file = \"default_parameters.txt\")\n",
    "repr(M_BiSwitch)\n",
    "CRN_BiSwitch = M_BiSwitch.compile_crn()\n",
    "\n",
    "# Write SBML file\n",
    "CRN_BiSwitch.write_sbml_file('BiSwitch_CRN.xml')\n",
    "\n",
    "print(CRN_BiSwitch)"
   ]
  },
  {
   "cell_type": "markdown",
   "metadata": {},
   "source": [
    "# Produce 2N\n",
    "SBML file below with DFHBI in separate reaction"
   ]
  },
  {
   "cell_type": "markdown",
   "metadata": {},
   "source": [
    "###### Create CRN of Produce 2N\n",
    "Prod2_off = Species(\"Prod2\")\n",
    "Broccoli_Aptamer = Species (\"BrocApt\")\n",
    "\n",
    "Prod2 = Genelet(Prod2_off, transcript= Broccoli_Aptamer , activator= \"dA1\"  , inhibitor= \"rR1\", \n",
    "                rnap=\"RNAP\", rnaseH=\"RNAseH\")\n",
    "M_Prod2 = Mixture(name = \"Produce2_test\", components = [Prod2], parameter_file = \"default_parameters.txt\")\n",
    "repr(M_Prod2)\n",
    "CRN_Prod2 = M_Prod2.compile_crn()\n",
    "\n",
    "rxn1 = Reaction([Broccoli_Aptamer,DFHBI], [ComplexSpecies([Broccoli_Aptamer, DFHBI], name=\"Flu1\")], k = 9.96e-2)\n",
    "#CRN_Prod2.add_reactions([rxn1])\n",
    "\n",
    "# Write SBML file\n",
    "#CRN_Prod2.write_sbml_file('Prod2_CRN.xml')\n",
    "\n",
    "#print(CRN_Prod2.pretty_print())"
   ]
  },
  {
   "cell_type": "markdown",
   "metadata": {},
   "source": [
    "#### Create CRN for DFHBI and Broc Apt Binding"
   ]
  },
  {
   "cell_type": "markdown",
   "metadata": {},
   "source": [
    "### Create species that do RNA transport ###\n",
    "\n",
    "SID_f = Species (\"SID_f\") # free export protein\n",
    "rR1 = Species (\"rR1\") # repressor for genelet 2\n",
    "rR2 = Species (\"rR2\") # repressor for genelet 1\n",
    "SID_b = Species (\"SID_b\") # bound to membrane\n"
   ]
  },
  {
   "cell_type": "markdown",
   "metadata": {},
   "source": [
    "# rR1 external reservoir"
   ]
  },
  {
   "cell_type": "code",
   "execution_count": 3,
   "metadata": {},
   "outputs": [
    {
     "name": "stdout",
     "output_type": "stream",
     "text": [
      "<subsbml.Subsystem.Subsystem object at 0x0000022637336B08>\n"
     ]
    }
   ],
   "source": [
    "##### Creating atc reservoir model####\n",
    "\n",
    "from subsbml import createBasicSubsystem, SimpleModel\n",
    "import libsbml\n",
    "\n",
    "rR1_ss, rR1_model = createBasicSubsystem('external_reservoir')\n",
    "\n",
    "per_second = rR1_model.createNewUnitDefinition(uId = 'per_second',uKind = libsbml.UNIT_KIND_SECOND,\n",
    "                                                uExponent = -1)\n",
    "substance = rR1_model.createNewUnitDefinition('substance',libsbml.UNIT_KIND_DIMENSIONLESS, uExponent = 1)\n",
    "\n",
    "rR1_model.createNewSpecies('rR1_e',sComp = 'external_reservoir', ListOfAmounts = 10, \n",
    "                             sConstant = False, sSubstance = 'substance')\n",
    "\n",
    "# Write to SBML file \n",
    "exsub = rR1_ss.writeSBML('rR1_external_reservoir.xml')\n",
    "print(rR1_ss)"
   ]
  },
  {
   "cell_type": "markdown",
   "metadata": {},
   "source": [
    "# rR1 simple membrane model\n",
    "\n",
    "rR1_internal $\\leftrightarrow$ rR1_external"
   ]
  },
  {
   "cell_type": "code",
   "execution_count": 4,
   "metadata": {},
   "outputs": [
    {
     "name": "stdout",
     "output_type": "stream",
     "text": [
      "Model written to a SBML file successfully\n"
     ]
    }
   ],
   "source": [
    "##### Creating a basic membrane model for IPTG transport####\n",
    "\n",
    "from subsbml import createNewSubsystem, SimpleModel, SimpleReaction\n",
    "import libsbml\n",
    "\n",
    "rR1_mb_ss = createNewSubsystem()\n",
    "model = rR1_mb_ss.createNewModel('rR1_membrane','second','mole','substance')\n",
    "\n",
    "rR1_mb = SimpleModel(model)\n",
    "\n",
    "per_second = rR1_mb.createNewUnitDefinition('per_second',libsbml.UNIT_KIND_SECOND,-1,0,1)\n",
    "substance = rR1_mb.createNewUnitDefinition('substance',libsbml.UNIT_KIND_DIMENSIONLESS, 1, 0, 1)\n",
    "\n",
    "################# Two important lines of code when creating membrane #########################\n",
    "rR1_mb.createNewCompartment('internal','internal',1e-6,'litre',True)\n",
    "rR1_mb.createNewCompartment('external','external',1e-6,'litre',True)\n",
    "##############################################################################################\n",
    "\n",
    "rR1_mb.createNewSpecies( 'rR1_e','external',0,False,'substance')\n",
    "rR1_mb.createNewSpecies( 'rR1_i','internal',0,False,'substance')\n",
    "\n",
    "rR1_mb.createNewParameter( 'kb',2e-3,False,'per_second')\n",
    "rR1_mb.createNewParameter( 'kd',1e-5,False,'per_second')\n",
    "\n",
    "# model = IPTG_mb_ss.getSBMLDocument().getModel()\n",
    "r1_sbml = model.createReaction()\n",
    "r1 = SimpleReaction(r1_sbml)\n",
    "r1.setId('r1')\n",
    "r1.setReversible(True)\n",
    "r1.createNewReactant('rR1_e',False,1)\n",
    "r1.createNewProduct('rR1_i', False, 1)\n",
    "r1.createRate('kb * rR1_e - kd * rR1_i')\n",
    "\n",
    "# Write to SBML file \n",
    "_ = rR1_mb_ss.writeSBML('membrane_rR1.xml')\n",
    "print('Model written to a SBML file successfully')"
   ]
  },
  {
   "cell_type": "markdown",
   "metadata": {},
   "source": []
  }
 ],
 "metadata": {
  "kernelspec": {
   "display_name": "Python 3",
   "language": "python",
   "name": "python3"
  },
  "language_info": {
   "codemirror_mode": {
    "name": "ipython",
    "version": 3
   },
   "file_extension": ".py",
   "mimetype": "text/x-python",
   "name": "python",
   "nbconvert_exporter": "python",
   "pygments_lexer": "ipython3",
   "version": "3.7.7"
  }
 },
 "nbformat": 4,
 "nbformat_minor": 4
}
