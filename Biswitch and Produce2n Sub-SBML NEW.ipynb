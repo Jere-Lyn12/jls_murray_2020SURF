{
 "cells": [
  {
   "cell_type": "code",
   "execution_count": 1,
   "metadata": {},
   "outputs": [],
   "source": [
    "# Imports\n",
    "from subsbml import System, createSubsystem, combineSystems, createNewSubsystem, createBasicSubsystem, SimpleModel, SimpleReaction\n",
    "import numpy as np\n",
    "import pylab as plt\n",
    "\n",
    "from bokeh.layouts import row\n",
    "from bokeh.io import export_png\n",
    "\n",
    "import warnings\n",
    "import libsbml\n",
    "import bokeh.io\n",
    "import bokeh.plotting"
   ]
  },
  {
   "cell_type": "markdown",
   "metadata": {},
   "source": [
    "## Cells B and P communicating with each other ##\n",
    "Cell_B = Bistable SWitch\n",
    "\n",
    "Cell_P = Produce2N\n",
    "\n",
    "External environment = rR1 reservoir"
   ]
  },
  {
   "cell_type": "code",
   "execution_count": 2,
   "metadata": {},
   "outputs": [
    {
     "name": "stdout",
     "output_type": "stream",
     "text": [
      "The subsystem from SBML_Models/rR1_membrane1_detailed.xml has multiple compartments\n",
      "<subsbml.System.System object at 0x0000020522D977C8>\n"
     ]
    }
   ],
   "source": [
    "ss1 = createSubsystem (\"SBML_Models/BiSwitch_CRN.xml\")\n",
    "ss2 = createSubsystem (\"SBML_Models/rR1_external_reservoir.xml\")\n",
    "\n",
    "# Membrane \n",
    "mb1 = createSubsystem(\"SBML_Models/rR1_membrane1_detailed.xml\", membrane = True)\n",
    "### Cell B ###\n",
    "cell_B = System(\"cell_B\")\n",
    "\n",
    "cell_B.setInternal([ss1])\n",
    "cell_B.setExternal([ss2])\n",
    "cell_B.setMembrane(mb1)\n",
    "\n",
    "cell_B_model = cell_B.getModel()\n",
    "cell_B_model.writeSBML('SBML_Models/cell_B_model.xml')\n",
    "print (cell_B)"
   ]
  },
  {
   "cell_type": "code",
   "execution_count": 3,
   "metadata": {},
   "outputs": [
    {
     "name": "stdout",
     "output_type": "stream",
     "text": [
      "The subsystem from SBML_Models/rR1_membrane1_detailed.xml has multiple compartments\n"
     ]
    },
    {
     "data": {
      "text/plain": [
       "1"
      ]
     },
     "execution_count": 3,
     "metadata": {},
     "output_type": "execute_result"
    }
   ],
   "source": [
    "ss3 = createSubsystem(\"SBML_Models/Full_Produce.xml\")\n",
    "\n",
    "# Membrane \n",
    "mb1 = createSubsystem(\"SBML_Models/rR1_membrane1_detailed.xml\", membrane = True)\n",
    "\n",
    "### Cell P ###\n",
    "cell_P = System(\"cell_P\")\n",
    "\n",
    "cell_P.setInternal([ss3])\n",
    "cell_P.setExternal([ss2])\n",
    "cell_P.setMembrane(mb1)\n",
    "\n",
    "cell_P_model = cell_P.getModel()\n",
    "cell_P_model.writeSBML('SBML_Models/cell_P_model.xml')"
   ]
  },
  {
   "cell_type": "code",
   "execution_count": 9,
   "metadata": {},
   "outputs": [
    {
     "data": {
      "text/plain": [
       "1"
      ]
     },
     "execution_count": 9,
     "metadata": {},
     "output_type": "execute_result"
    }
   ],
   "source": [
    "#### Combine both Systems ####\n",
    "combined_model = combineSystems([cell_B, cell_P])\n",
    "\n",
    "combined_model.shareSubsystems([ss2], ListOfSharedResources=['rna_rR1_e'])\n",
    "#combined_model.ListOfSharedResources = ['rna_rR1_e']\n",
    "combined_model.changeLog\n",
    "\n",
    "combined_model.writeSBML('combined.xml')\n",
    "#### Shared external subsystem ###"
   ]
  },
  {
   "cell_type": "code",
   "execution_count": 10,
   "metadata": {},
   "outputs": [
    {
     "ename": "ValueError",
     "evalue": "The species complex_Core1_ON not found.",
     "output_type": "error",
     "traceback": [
      "\u001b[1;31m---------------------------------------------------------------------------\u001b[0m",
      "\u001b[1;31mValueError\u001b[0m                                Traceback (most recent call last)",
      "\u001b[1;32m<ipython-input-10-f21a844f3ec6>\u001b[0m in \u001b[0;36m<module>\u001b[1;34m\u001b[0m\n\u001b[0;32m      1\u001b[0m \u001b[1;31m# Cell_B Identifiers #\u001b[0m\u001b[1;33m\u001b[0m\u001b[1;33m\u001b[0m\u001b[1;33m\u001b[0m\u001b[0m\n\u001b[0;32m      2\u001b[0m \u001b[1;33m\u001b[0m\u001b[0m\n\u001b[1;32m----> 3\u001b[1;33m \u001b[0mB_id1\u001b[0m \u001b[1;33m=\u001b[0m \u001b[0mcombined_model\u001b[0m\u001b[1;33m.\u001b[0m\u001b[0mgetSpeciesByName\u001b[0m\u001b[1;33m(\u001b[0m\u001b[1;34m'complex_Core1_ON'\u001b[0m\u001b[1;33m)\u001b[0m\u001b[1;33m.\u001b[0m\u001b[0mgetId\u001b[0m\u001b[1;33m(\u001b[0m\u001b[1;33m)\u001b[0m\u001b[1;33m\u001b[0m\u001b[1;33m\u001b[0m\u001b[0m\n\u001b[0m\u001b[0;32m      4\u001b[0m \u001b[0mB_id2\u001b[0m \u001b[1;33m=\u001b[0m \u001b[0mcell_B_model\u001b[0m\u001b[1;33m.\u001b[0m\u001b[0mgetSpeciesByName\u001b[0m\u001b[1;33m(\u001b[0m\u001b[1;34m'Core1_OFF'\u001b[0m\u001b[1;33m)\u001b[0m\u001b[1;33m.\u001b[0m\u001b[0mgetId\u001b[0m\u001b[1;33m(\u001b[0m\u001b[1;33m)\u001b[0m\u001b[1;33m\u001b[0m\u001b[1;33m\u001b[0m\u001b[0m\n\u001b[0;32m      5\u001b[0m \u001b[0mB_id3\u001b[0m \u001b[1;33m=\u001b[0m \u001b[0mcell_B_model\u001b[0m\u001b[1;33m.\u001b[0m\u001b[0mgetSpeciesByName\u001b[0m\u001b[1;33m(\u001b[0m\u001b[1;34m'complex_Core2_ON'\u001b[0m\u001b[1;33m)\u001b[0m\u001b[1;33m.\u001b[0m\u001b[0mgetId\u001b[0m\u001b[1;33m(\u001b[0m\u001b[1;33m)\u001b[0m\u001b[1;33m\u001b[0m\u001b[1;33m\u001b[0m\u001b[0m\n",
      "\u001b[1;32m~\\anaconda3\\lib\\site-packages\\subsbml-0.1-py3.7.egg\\subsbml\\Subsystem.py\u001b[0m in \u001b[0;36mgetSpeciesByName\u001b[1;34m(self, name, compartment, **kwargs)\u001b[0m\n\u001b[0;32m    250\u001b[0m             \u001b[1;32mreturn\u001b[0m \u001b[0mspecies_found\u001b[0m\u001b[1;33m[\u001b[0m\u001b[1;36m0\u001b[0m\u001b[1;33m]\u001b[0m\u001b[1;33m\u001b[0m\u001b[1;33m\u001b[0m\u001b[0m\n\u001b[0;32m    251\u001b[0m         \u001b[1;32melif\u001b[0m \u001b[1;32mnot\u001b[0m \u001b[0mspecies_found\u001b[0m\u001b[1;33m:\u001b[0m\u001b[1;33m\u001b[0m\u001b[1;33m\u001b[0m\u001b[0m\n\u001b[1;32m--> 252\u001b[1;33m             \u001b[1;32mraise\u001b[0m \u001b[0mValueError\u001b[0m\u001b[1;33m(\u001b[0m\u001b[1;34m'The species '\u001b[0m \u001b[1;33m+\u001b[0m \u001b[0mname\u001b[0m \u001b[1;33m+\u001b[0m \u001b[1;34m' not found.'\u001b[0m\u001b[1;33m)\u001b[0m\u001b[1;33m\u001b[0m\u001b[1;33m\u001b[0m\u001b[0m\n\u001b[0m\u001b[0;32m    253\u001b[0m         \u001b[1;32melse\u001b[0m\u001b[1;33m:\u001b[0m\u001b[1;33m\u001b[0m\u001b[1;33m\u001b[0m\u001b[0m\n\u001b[0;32m    254\u001b[0m             \u001b[0mwarnings\u001b[0m\u001b[1;33m.\u001b[0m\u001b[0mwarn\u001b[0m\u001b[1;33m(\u001b[0m\u001b[1;34m'Multiple species with name '\u001b[0m \u001b[1;33m+\u001b[0m \u001b[0mname\u001b[0m \u001b[1;33m+\u001b[0m \u001b[1;34m' found. Returning a list'\u001b[0m\u001b[1;33m)\u001b[0m \u001b[1;32mif\u001b[0m \u001b[0mverbose\u001b[0m \u001b[1;32melse\u001b[0m \u001b[1;32mNone\u001b[0m\u001b[1;33m\u001b[0m\u001b[1;33m\u001b[0m\u001b[0m\n",
      "\u001b[1;31mValueError\u001b[0m: The species complex_Core1_ON not found."
     ]
    }
   ],
   "source": [
    "# Cell_B Identifiers #\n",
    "\n",
    "B_id1 = combined_model.getSpeciesByName('complex_Core1_ON').getId()\n",
    "B_id2 = cell_B_model.getSpeciesByName('Core1_OFF').getId()\n",
    "B_id3 = cell_B_model.getSpeciesByName('complex_Core2_ON').getId()\n",
    "B_id4 = cell_B_model.getSpeciesByName('Core2_OFF').getId()\n",
    "B_id5 = cell_B_model.getSpeciesByName(\"rna_rR2\").getId()\n",
    "B_id6 = cell_B_model.getSpeciesByName(\"rna_rR1\", compartment = 'cell_B_internal').getId()\n",
    "B_id7 = cell_B_model.getSpeciesByName(\"rna_rR1_e\", compartment = 'cell_B_external').getId()\n",
    "B_id8 = cell_B_model.getSpeciesByName(\"complex_Core2_AI\").getId()\n",
    "B_id9 = cell_B_model.getSpeciesByName(\"complex_Core1_AI\").getId()\n",
    "B_id10 = cell_B_model.getSpeciesByName(\"dna_dA2\").getId()\n",
    "B_id11 = cell_B_model.getSpeciesByName(\"dna_dA1\").getId()"
   ]
  },
  {
   "cell_type": "code",
   "execution_count": null,
   "metadata": {},
   "outputs": [],
   "source": [
    "# Cell_P Identifiers #\n",
    "\n",
    "P_id1 = cell_P_model.getSpeciesByName('complex_Prod2_ON').getId()\n",
    "P_id2 = cell_P_model.getSpeciesByName('Prod2_OFF').getId()\n",
    "P_id3 = cell_P_model.getSpeciesByName('DFHBI').getId()\n",
    "P_id4 = cell_P_model.getSpeciesByName('BrocApt').getId()\n",
    "P_id5 = cell_P_model.getSpeciesByName(\"complex_BrocApt_DFHBI\").getId()\n",
    "P_id6 = cell_P_model.getSpeciesByName(\"rna_rR1\", compartment = 'cell_P_internal').getId()\n",
    "P_id7 = cell_P_model.getSpeciesByName(\"rna_rR1_e\", compartment = 'cell_P_external').getId()"
   ]
  },
  {
   "cell_type": "code",
   "execution_count": null,
   "metadata": {},
   "outputs": [],
   "source": [
    "# Simulate with Bioscrape #\n",
    "timepoints = np.linspace(0,28800,1000)\n",
    "B,_ = combined_model.simulateWithBioscrape(timepoints)\n",
    "P,_ = cell_P_model.simulateWithBioscrape(timepoints)\n",
    "timepoints = timepoints/3600\n",
    "\n",
    "# For label convenience\n",
    "x = 'Time (hours)'\n",
    "y = 'Concentration (uM)'\n",
    "\n",
    "bokeh.io.output_notebook()\n",
    "a = bokeh.plotting.figure(plot_width=400, plot_height=300, x_axis_label = x, y_axis_label=y)\n",
    "a.circle(timepoints, B[B_id1], legend_label = \"Core1 ON\" , color = \"blue\")\n",
    "a.circle(timepoints, B[B_id3], legend_label = \"Core2 ON\", color = \"red\")\n",
    "a.legend.click_policy=\"hide\"\n",
    "a.legend.location=\"bottom_right\"\n",
    "\n",
    "b = bokeh.plotting.figure(plot_width=400, plot_height=300, x_axis_label = x, y_axis_label=y)\n",
    "b.circle(timepoints, P[P_id1], legend_label = \"Prod2 ON\" , color = \"blue\")\n",
    "b.circle(timepoints, P[P_id2], legend_label = \"Prod2 OFF\", color = \"red\")\n",
    "b.legend.click_policy=\"hide\"\n",
    "b.legend.location=\"bottom_right\"\n",
    "\n",
    "bokeh.io.show(row(a, b))\n",
    "warnings.filterwarnings(\"ignore\")"
   ]
  },
  {
   "cell_type": "code",
   "execution_count": null,
   "metadata": {},
   "outputs": [],
   "source": [
    "a = bokeh.plotting.figure(plot_width=400, plot_height=300, x_axis_label = x, y_axis_label=y)\n",
    "a.circle(timepoints, B[B_id6], legend_label = \"rR1 internal\" , color = \"blue\")\n",
    "a.legend.click_policy=\"hide\"\n",
    "a.legend.location=\"bottom_right\"\n",
    "\n",
    "b = bokeh.plotting.figure(plot_width=400, plot_height=300, x_axis_label = x, y_axis_label=y)\n",
    "b.circle(timepoints, P[P_id6], legend_label = \"rR1 Prod i\" , color = \"blue\")\n",
    "b.circle(timepoints, P[P_id7], legend_label = \"rR1 Prod e\", color = \"red\")\n",
    "b.legend.click_policy=\"hide\"\n",
    "b.legend.location=\"bottom_right\"\n",
    "\n",
    "c = bokeh.plotting.figure(plot_width=400, plot_height=300, x_axis_label = x, y_axis_label=y)\n",
    "c.circle(timepoints, B[B_id7], legend_label = \"rR1 external\", color = \"red\")\n",
    "c.legend.click_policy=\"hide\"\n",
    "c.legend.location=\"bottom_right\"\n",
    "\n",
    "bokeh.io.show(row(a, c, b))\n",
    "warnings.filterwarnings(\"ignore\")"
   ]
  },
  {
   "cell_type": "code",
   "execution_count": null,
   "metadata": {},
   "outputs": [],
   "source": []
  }
 ],
 "metadata": {
  "kernelspec": {
   "display_name": "Python 3",
   "language": "python",
   "name": "python3"
  },
  "language_info": {
   "codemirror_mode": {
    "name": "ipython",
    "version": 3
   },
   "file_extension": ".py",
   "mimetype": "text/x-python",
   "name": "python",
   "nbconvert_exporter": "python",
   "pygments_lexer": "ipython3",
   "version": "3.7.7"
  }
 },
 "nbformat": 4,
 "nbformat_minor": 4
}
